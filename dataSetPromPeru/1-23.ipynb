{
 "cells": [
  {
   "cell_type": "markdown",
   "metadata": {},
   "source": [
    "# <span style=color:peru>Anexo 1-23"
   ]
  },
  {
   "cell_type": "code",
   "execution_count": null,
   "metadata": {
    "collapsed": true
   },
   "outputs": [],
   "source": [
    "%matplotlib inline\n",
    "import pandas as pd\n",
    "import matplotlib.pyplot as plt\n",
    "data=pd.read_csv(\"Vacacionista.csv\",encoding='latin-1',index_col=1)"
   ]
  },
  {
   "cell_type": "code",
   "execution_count": null,
   "metadata": {
    "collapsed": true
   },
   "outputs": [],
   "source": [
    "def borrar_columnas_vacias():\n",
    "    data.drop(data.columns[[0,1]],axis=1,inplace=True)\n",
    "    ##,25,26,27\n",
    "    data.dropna(axis=1,how='all',inplace=True)\n",
    "    return data\n",
    "data=borrar_columnas_vacias()"
   ]
  },
  {
   "cell_type": "markdown",
   "metadata": {},
   "source": [
    "## <span style=color:peru>Lugar de salida"
   ]
  },
  {
   "cell_type": "code",
   "execution_count": null,
   "metadata": {
    "collapsed": true
   },
   "outputs": [],
   "source": [
    "def lugar_salida():\n",
    "    df=data['LUGAR'].value_counts()\n",
    "    print(df)\n",
    "    df=df.rename(index={1:'Lima - Extranjeros',\n",
    "                        2:'Puno - Kasani',\n",
    "                        3:'Tacna - Sta. Rosa',\n",
    "                        4:'Lima - Peruanos',\n",
    "                        5:'Tumbes - Aguas Verdes'})\n",
    "    plott = (df[:5]).plot(kind='pie',\n",
    "                          autopct='%.2f%%',\n",
    "                          figsize=(7,7),\n",
    "                          fontsize=12).set_ylabel('')\n",
    "    print()\n",
    "lugar_salida()"
   ]
  },
  {
   "cell_type": "markdown",
   "metadata": {},
   "source": [
    "## <span style='color:peru;font-family:Georgia;'>Aspectos que más motivaron al visitar el Perú"
   ]
  },
  {
   "cell_type": "code",
   "execution_count": null,
   "metadata": {
    "collapsed": true
   },
   "outputs": [],
   "source": [
    "import numpy as np\n",
    "def motivacion():\n",
    "    print('Lugar de entrevista : Lima Y Puno')\n",
    "    muestra=(data['LUGAR'].value_counts())[:2].sum()\n",
    "    muestraP_3=data['P03'].count()\n",
    "    print('Muestra : ',muestraP_3)\n",
    "    df = data.loc[:,'P02_1':'P02_20'].apply(pd.Series.value_counts)\n",
    "    value_counts=df.sum(axis=1).sort_values()[::-1]\n",
    "    value_counts=value_counts.rename(index={1:'Conocer/Visitar \\n Machu Picchu',\n",
    "                                            2:'Conocer/Visitar \\n sitios o restos arqueológicos \\n (diferentes a Machu Picchu)',\n",
    "                                            4:'Conocer/visitar comunidades \\n nativas/ andinas / campesinas',\n",
    "                                            5:'Conocer/Visitar \\n la Ciudad de Lima',\n",
    "                                            6:'Conocer/Visitar \\n la Ciudad del Cusco',\n",
    "                                            9:'Conocer/Visitar \\náreas/reservas \\n naturales protegidas',\n",
    "                                            7:'Probar la comida \\n peruana/platos típicos',\n",
    "                                            13:'Hacer trekking (caminatas)',\n",
    "                                            18:'Conocer la cultura / historia',\n",
    "                                            32:'Conocer/visitar el\\n Lago Titicaca',\n",
    "                                            68:'Conocer/visitar la \\nciudad de Arequipa',\n",
    "                                            75:'Conocer/Visitar \\n la Ciudad Puno',\n",
    "                                            83:'Conocer/visitar el \\n cañon del colca',\n",
    "                                            63:'Conocer/visitar \\n las Líneas de Nasca',\n",
    "                                            14:'Hacer el Camino Inca',\n",
    "                                            69:'Conocer/visitar Paracas',\n",
    "                                            57:'Conocer/visitar Nazca',\n",
    "                                            77:'Conocer/visitar Ica',\n",
    "                                            12:'Observar flora (plantas)',\n",
    "                                            10:'Observar aves',\n",
    "                                            51:'Conocer/visitar la selva peruana',\n",
    "                                            40:'Conocer sus paisajes',\n",
    "                                            31:'Conocer sus costumbres',\n",
    "                                            78:'Conocer/visitar Madre de Dios'\n",
    "                                            \n",
    "                                                                   })\n",
    "    porcentajes=np.round((value_counts/muestraP_3)*100,decimals=2);\n",
    "    ##print(value_counts)\n",
    "    ##print(porcentajes[:24])\n",
    "    plott = ((value_counts/muestraP_3)*100)[:13].plot(kind='bar',\n",
    "                                                     figsize=(15, 7),\n",
    "                                                     fontsize=12, \n",
    "                                                     grid=True).set_ylabel('porcentaje(%)')\n",
    "motivacion()"
   ]
  },
  {
   "cell_type": "markdown",
   "metadata": {},
   "source": [
    "## <span style='color:peru;font-family:Georgia;'>Promedio de Aspectos que motivan el viaje al Perú por persona"
   ]
  },
  {
   "cell_type": "code",
   "execution_count": null,
   "metadata": {},
   "outputs": [],
   "source": [
    "def promedio_aspectos():\n",
    "    df = data.loc[:,'P02_1':'P02_20']\n",
    "    return df.notnull().sum(axis=1).mean().round()\n",
    "promedio_aspectos()  "
   ]
  },
  {
   "cell_type": "markdown",
   "metadata": {},
   "source": [
    "## <span style='color:peru;font-family:Georgia;'>Aspectos que mas motivaron a visitar el Perú : Mas importante"
   ]
  },
  {
   "cell_type": "code",
   "execution_count": null,
   "metadata": {
    "collapsed": true
   },
   "outputs": [],
   "source": [
    "def motivacion_importante():\n",
    "    print('Lugar de Entrevista: Lima Y Puno')\n",
    "    muestraP_3=data['P03'].count()\n",
    "    df=data['P03'].value_counts()\n",
    "        ##print(df[:2])\n",
    "        ##print('suma',sum(df[13:]))\n",
    "    df=df.rename(index={\n",
    "        1:'Conocer/Visitar \\n Machu Pichu',\n",
    "        18:'Conocer/Visitar \\n Cultura / Historia',\n",
    "        9:'Conocer/Visitar \\n Area/ reservas \\n naturales protegidos',\n",
    "        6:'Conocer/Visitar Cusco',\n",
    "        13:'Hacer trekking (caminatas)',\n",
    "        14:'Hacer el Camino Inca',\n",
    "        51:'Conocer/visitar la selva peruana',\n",
    "        19:'Conocer/visitar el país / paseos (en general)',\n",
    "        5:'Conocer/visitar la ciudad de Lima',\n",
    "        2:'Conocer/Visitar Sitios o restos \\narqueológicos (diferentes a Machu Picchu)'})\n",
    "    porcentaje=np.round((df/muestraP_3)*100,decimals=2)\n",
    "    print('Muestra : ',muestraP_3)\n",
    "    cincoprimeos=porcentaje[:5]\n",
    "    ss=sum(porcentaje[5:])\n",
    "        ##print('****',ss)\n",
    "    s1 = pd.Series([ss],index=['Otros'])\n",
    "    df=cincoprimeos.append(s1)\n",
    "    df=df.sort_values(axis=0, ascending=False, inplace=False)\n",
    "        ##print(df)\n",
    "    plott = df.plot(kind='pie',\n",
    "                    autopct='%.2f%%',\n",
    "                    figsize=(10, 10),\n",
    "                    fontsize=10,\n",
    "                    title=\"Aspecto mas importante en la visita al Perú\",\n",
    "                    grid=True).set_ylabel('')\n",
    "motivacion_importante()"
   ]
  },
  {
   "cell_type": "markdown",
   "metadata": {},
   "source": [
    "## <span style='color:peru;font-family:Georgia;'>Lugar de ingreso al Perú"
   ]
  },
  {
   "cell_type": "code",
   "execution_count": null,
   "metadata": {
    "collapsed": true
   },
   "outputs": [],
   "source": [
    "def IngresoPeru():\n",
    "    df=data['P06'].value_counts()\n",
    "    muestra=data['P06'].count()\n",
    "    df=df.rename(index={1:'Lima (Aeropuerto Jorge Chávez)',\n",
    "                    2:'Tacna (Santa Rosa)',\n",
    "                    3:'Puno (Kasani)',\n",
    "                    4:'Puno (Desaguadero)',\n",
    "                    6:'Tumbes (Aguas verdes)'})\n",
    "    print('Muestra',muestra)\n",
    "    plott = (df[:5]).plot(kind='pie',\n",
    "                          autopct='%.2f%%',\n",
    "                          figsize=(15,15),\n",
    "                          fontsize=12).set_ylabel('')\n",
    "IngresoPeru()"
   ]
  },
  {
   "cell_type": "markdown",
   "metadata": {},
   "source": [
    "## <span style='color:peru;font-family:Georgia;'>Frecuencia de visitas al Perú"
   ]
  },
  {
   "cell_type": "code",
   "execution_count": null,
   "metadata": {
    "collapsed": true
   },
   "outputs": [],
   "source": [
    "def Frecuencia_visita():\n",
    "    df=data['P07'].value_counts()\n",
    "    df=df.rename(index={1:'Primera vez',\n",
    "                        2:'Mas de Una vez'})\n",
    "    plott = (df).plot(kind='pie',\n",
    "                      figsize=(5, 5),\n",
    "                      fontsize=12,\n",
    "                      autopct='%.0f%%').set_ylabel('')\n",
    "Frecuencia_visita()\n",
    "##data[data.columns[[23,24]]].count()\n",
    "##data['P07'][data['P07'] == 1].count()"
   ]
  },
  {
   "cell_type": "markdown",
   "metadata": {},
   "source": [
    "## <span style='color:peru;font-family:Georgia;'>Cantidad de veces visitadas anteriormente"
   ]
  },
  {
   "cell_type": "code",
   "execution_count": null,
   "metadata": {
    "collapsed": true
   },
   "outputs": [],
   "source": [
    "def Mas_una_ves():\n",
    "    df=data['P07A'].value_counts()\n",
    "    muestra=data['P07A'].count()\n",
    "    print(muestra)\n",
    "    df=df.rename(index={1:'1 vez',2:'2 veces',3:'3 a 5 veces',94:'Mas de 5 veces'})\n",
    "    plott = (df).plot(kind='pie',\n",
    "                      figsize=(5, 5),\n",
    "                      fontsize=12,\n",
    "                      autopct='%.0f%%').set_ylabel('')\n",
    "    ##title=\"Cantidad de Veces visitadas anteriormenete\"\n",
    "Mas_una_ves()    "
   ]
  },
  {
   "cell_type": "markdown",
   "metadata": {},
   "source": [
    "## <span style='color:peru;font-family:Georgia;'>Pais de residencia de los Visitantes"
   ]
  },
  {
   "cell_type": "code",
   "execution_count": null,
   "metadata": {
    "collapsed": true,
    "scrolled": true
   },
   "outputs": [],
   "source": [
    "def Pais():\n",
    "    df=data['P09Pais'].value_counts()\n",
    "    df=df.rename(index={2 : 'Canadá',\n",
    "                        3 : 'Alemania',\n",
    "                        4 : 'España',\n",
    "                        5 : 'Francia',\n",
    "                        7 : 'Italia',\n",
    "                        8 : 'Bélgica',\n",
    "                        9 : 'Holanda',\n",
    "                        10 : 'Suiza',\n",
    "                        11 : 'Argentina',\n",
    "                        12 : 'Brasil',\n",
    "                        13 : 'Bolivia',\n",
    "                        14 : 'Chile',\n",
    "                        15 : 'Ecuador',\n",
    "                        16 : 'EEUU',\n",
    "                        25 : 'Australia',\n",
    "                        35 : 'Japón',\n",
    "                        47 : 'China',\n",
    "                        49 : 'Colombia',\n",
    "                        53 : 'Corea del Sur',\n",
    "                        127 : 'México',\n",
    "                        159 : 'Rusia',\n",
    "                        504 : 'Centroamérica',\n",
    "                        507 : 'Reino Unido',\n",
    "                        942 : 'Otros de Sudamérica',\n",
    "                        943 : 'Otros de Europa',\n",
    "                        945 : 'Otros de Asia',\n",
    "                        946 : 'Otros de Oceanía/Africa'})\n",
    "    porcentaje=np.round((df/1548)*100,decimals=2)\n",
    "    otros=sum(df[15:])\n",
    "    print('aqui>>>>',otros,sum(df[:15]),otros+sum(df[:15]))\n",
    "    ss=sum(df[20:])\n",
    "    datas=df[:20]\n",
    "    s1 = pd.Series([ss],index=['Otros'])\n",
    "    df=datas.append(s1)\n",
    "    ##df=df.sort_values(axis=0, ascending=False, inplace=False)\n",
    "    ls=np.round((df/1548)*100,decimals=2)\n",
    "    print(df)\n",
    "    print('suma',sum(ls))\n",
    "    ##print(porcentaje)\n",
    "    print('Muestra',data['P09Pais'].count())\n",
    "    plott = ((df/1548)*100).plot(kind='bar',\n",
    "                                 grid=True,\n",
    "                                 figsize=(15, 5),\n",
    "                                 fontsize=12).set_ylabel('porcentaje(%)')\n",
    "    ##autopct='%.0f%%'\n",
    "Pais()  "
   ]
  },
  {
   "cell_type": "markdown",
   "metadata": {},
   "source": [
    "## <span style='color:peru;font-family:Georgia;'>Visitantes agrupados por continente"
   ]
  },
  {
   "cell_type": "code",
   "execution_count": null,
   "metadata": {
    "collapsed": true
   },
   "outputs": [],
   "source": [
    "def Continente():\n",
    "    df=data['P09CONTIN'].value_counts()\n",
    "    df=df.rename(index={501 : 'Norteamérica',\n",
    "                        502 : 'Sudamérica',\n",
    "                        503 : 'Europa',\n",
    "                        504 : 'Centroamérica',\n",
    "                        505 : 'Asia',\n",
    "                        506 : 'Oceanía/Africa'})\n",
    "    muestra=data['P09CONTIN'].count()\n",
    "    print('Muestra',muestra)\n",
    "    porcentaje=np.round((df/1548)*100,decimals=1)\n",
    "    print(sum(porcentaje))\n",
    "    ##print(porcentaje)\n",
    "    \n",
    "    plott = (df).plot(kind='pie',\n",
    "                      figsize=(5, 5),\n",
    "                      fontsize=12,\n",
    "                      autopct='%.1f%%').set_ylabel('')\n",
    "Continente()"
   ]
  },
  {
   "cell_type": "markdown",
   "metadata": {},
   "source": [
    "## <span style='color:peru;font-family:Georgia;'>¿Solo visita Peru, o tambien otros Paises?"
   ]
  },
  {
   "cell_type": "code",
   "execution_count": null,
   "metadata": {
    "collapsed": true
   },
   "outputs": [],
   "source": [
    "def Visita_peru_otroP():\n",
    "    df=data['P14'].value_counts()\n",
    "    print('Muesta: ',data['P14'].count())\n",
    "    df=df.rename(index={1:'Solo Peru',2:'Otros Paises'})\n",
    "   ## print(round((df/1548)*100))\n",
    "    plott=(df).plot(kind='pie',\n",
    "                    figsize=(5,5),\n",
    "                    fontsize=12,\n",
    "                    autopct='%.0f%%').set_ylabel('')\n",
    "Visita_peru_otroP()"
   ]
  },
  {
   "cell_type": "markdown",
   "metadata": {},
   "source": [
    "## <span style='color:peru;font-family:Georgia;'>¿Que otros paises visito?"
   ]
  },
  {
   "cell_type": "code",
   "execution_count": null,
   "metadata": {
    "collapsed": true,
    "scrolled": true
   },
   "outputs": [],
   "source": [
    "def OtrosPaises():\n",
    "    df = data.loc[:,'P15_1':'P15_11'].apply(pd.Series.value_counts)\n",
    "    sum_values=df.sum(axis=1).sort_values()[::-1]\n",
    "    muestra=data['P14'][data['P14']==2].count()\n",
    "    print('Muestra', muestra)\n",
    "    sum_values=sum_values.rename(index={13:'Bolivia',\n",
    "                                        14:'Chile',\n",
    "                                        11:'Argentina',\n",
    "                                        15:'Ecuador',\n",
    "                                        12:'Brasil',\n",
    "                                        49:'Colombia',\n",
    "                                        192:'Oruguay',\n",
    "                                        127:'Mexico',\n",
    "                                        147:'Paraguay',\n",
    "                                        195:'Venezuela',\n",
    "                                        16:'Estados Unidos'})\n",
    "    porcentaje=np.round((sum_values/muestra)*100,decimals=2)\n",
    "    print(sum_values)\n",
    "    print(porcentaje)\n",
    "    print(sum(porcentaje))\n",
    "    plott=((sum_values/muestra)*100)[:11].plot(kind='bar',\n",
    "                                               figsize=(15,5),\n",
    "                                               fontsize=12,\n",
    "                                               grid=True).set_ylabel('porcentaje(%)')\n",
    "OtrosPaises()"
   ]
  },
  {
   "cell_type": "markdown",
   "metadata": {},
   "source": [
    "## <span style='color:peru;font-family:Georgia;'>¿Como Organizo el Viaje?"
   ]
  },
  {
   "cell_type": "code",
   "execution_count": null,
   "metadata": {
    "collapsed": true
   },
   "outputs": [],
   "source": [
    "def Organiza_viaje():\n",
    "    df=data['P17A'].value_counts()\n",
    "    print('Muestra : ',df.sum())\n",
    "   \n",
    "    df=df.rename(index={1:'Contraté todos los servicios por separado',\n",
    "                        2:'Contraté todos los servicios \\n y actividades en un paquete',\n",
    "                        3:'Contraté algunos de los servicios y/o \\n actividades en un paquete y \\n algunos por separado'})\n",
    "    \n",
    "    ##porcentaje=round((df/1548)*100)\n",
    "    ##print(porcentaje)\n",
    "    plott=(df).plot(kind='pie',figsize=(5,5),\n",
    "                    fontsize=12,\n",
    "                    autopct='%.2f%%').set_ylabel('')\n",
    "Organiza_viaje()"
   ]
  },
  {
   "cell_type": "markdown",
   "metadata": {},
   "source": [
    "## <span style='color:peru;font-family:Georgia;'>¿Contrato algun tour?"
   ]
  },
  {
   "cell_type": "code",
   "execution_count": null,
   "metadata": {
    "collapsed": true
   },
   "outputs": [],
   "source": [
    "def Contrato_tour():\n",
    "    df=data['P19'].value_counts()\n",
    "    muestra=df.sum()\n",
    "    print('Muestra : ',muestra)\n",
    "    df=df.rename(index={1:'SI',2:'NO'})\n",
    "    plott=(df).plot(kind='pie',\n",
    "                    figsize=(5,5),\n",
    "                    fontsize=12,\n",
    "                    autopct='%.2f%%').set_ylabel('')\n",
    "Contrato_tour()"
   ]
  },
  {
   "cell_type": "markdown",
   "metadata": {},
   "source": [
    "## <span style='color:peru;font-family:Georgia;'>¿Con que personas realizo el viaje?"
   ]
  },
  {
   "cell_type": "code",
   "execution_count": null,
   "metadata": {
    "collapsed": true
   },
   "outputs": [],
   "source": [
    "def Con_quien_viaja():\n",
    "    df=data['P21_GrupoDeViaje'].value_counts()\n",
    "    print('Muestra : ',df.sum())\n",
    "    df=df.rename(index={1:'Solo',\n",
    "                        2:'Con mi pareja',\n",
    "                        3:'Con amigos o parientes sin niños',\n",
    "                        4:'Con amigos o parientes con niños',\n",
    "                        5:'Grupo familiar directo'})\n",
    "    ##print(round((df/1548)*100))\n",
    "    print(df)\n",
    "    plott=(df).plot(kind='pie',\n",
    "                    figsize=(9,9),\n",
    "                    fontsize=12,\n",
    "                    autopct='%.2f%%').set_ylabel('')\n",
    "Con_quien_viaja()"
   ]
  }
 ],
 "metadata": {
  "kernelspec": {
   "display_name": "Python 3",
   "language": "python",
   "name": "python3"
  },
  "language_info": {
   "codemirror_mode": {
    "name": "ipython",
    "version": 3
   },
   "file_extension": ".py",
   "mimetype": "text/x-python",
   "name": "python",
   "nbconvert_exporter": "python",
   "pygments_lexer": "ipython3",
   "version": "3.6.1"
  }
 },
 "nbformat": 4,
 "nbformat_minor": 2
}
