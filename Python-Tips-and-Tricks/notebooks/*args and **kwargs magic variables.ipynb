{
 "cells": [
  {
   "cell_type": "markdown",
   "metadata": {},
   "source": [
    "# Intro:\n",
    "* It's worth noting that only the \\* (aesteric) is required and it is not necessary to write \\*args  or  \\*\\*kwargs\n",
    "* We could have \\*vars and \\*\\*kwvars (\\*args and \\*\\*kwargs are used as just a convention). \n",
    "* We normally use \\*args and \\*\\*kwargs in function definitions.\n",
    "* We use them to pass a variable number of arguments to a function. \n",
    "* The idea is that sometimes we do not know in advance the number of arguments that are going to be passed to our function by the user\n",
    "* In this case we use these two keywords. "
   ]
  },
  {
   "cell_type": "markdown",
   "metadata": {},
   "source": [
    "# Using *args \n",
    "\n",
    "* We use \\*args to send a different number of non-keyworded arguments our function (as a tuple)"
   ]
  },
  {
   "cell_type": "code",
   "execution_count": 74,
   "metadata": {
    "collapsed": true
   },
   "outputs": [],
   "source": [
    "def function_with_var_args(first_arg, *args):\n",
    "    print(\"The first normal argument was:\", first_arg)\n",
    "    print(type(args))\n",
    "    for arg in args:\n",
    "        print(\"Arg through *args is:\", arg)"
   ]
  },
  {
   "cell_type": "code",
   "execution_count": 76,
   "metadata": {
    "collapsed": false
   },
   "outputs": [
    {
     "name": "stdout",
     "output_type": "stream",
     "text": [
      "The first normal argument was: bob\n",
      "<class 'tuple'>\n",
      "Arg through *args is: 3.14\n",
      "Arg through *args is: Test\n",
      "Arg through *args is: 44\n",
      "Arg through *args is: Play\n"
     ]
    }
   ],
   "source": [
    "my_args = (3.14,\"Test\", 44,'Play')\n",
    "#function_with_var_args('bob',3.14,\"Test\", 44,'Play')\n",
    "function_with_var_args('bob', *my_args)"
   ]
  },
  {
   "cell_type": "markdown",
   "metadata": {},
   "source": [
    "# Usage of **kwargs\n",
    "* We use \\*\\*kwargs to send a different number of keyworded arguments to our function (as a dictionary)\n",
    "* So we use \\*\\*kwargs if we want to process named arguments in a function"
   ]
  },
  {
   "cell_type": "code",
   "execution_count": 77,
   "metadata": {
    "collapsed": false
   },
   "outputs": [],
   "source": [
    "def function_with_var_kwargs(first_arg,**kwargs):\n",
    "    print(\"The first normal argument was:\", first_arg)\n",
    "    print(type(kwargs))\n",
    "    for key in kwargs:\n",
    "        print(\"%s -> %s\" %(key, kwargs[key]))"
   ]
  },
  {
   "cell_type": "code",
   "execution_count": 79,
   "metadata": {
    "collapsed": false
   },
   "outputs": [
    {
     "name": "stdout",
     "output_type": "stream",
     "text": [
      "The first normal argument was: 3\n",
      "<class 'dict'>\n",
      "name -> Noureddin\n",
      "a -> 3\n"
     ]
    }
   ],
   "source": [
    "my_dict = {'name':'Noureddin','a':3}\n",
    "#function_with_var_kwargs(3,name='Noureddin',a=3)\n",
    "function_with_var_kwargs(3,**my_dict)"
   ]
  },
  {
   "cell_type": "markdown",
   "metadata": {},
   "source": [
    "# Order of using \\*args \\*\\*kwargs and normal args"
   ]
  },
  {
   "cell_type": "code",
   "execution_count": 81,
   "metadata": {
    "collapsed": true
   },
   "outputs": [],
   "source": [
    "def my_function(first_arg, *args, **kwargs):\n",
    "    print(\"The first normal argument was:\", first_arg)\n",
    "\n",
    "    for arg in args:\n",
    "        print(\"Another arg through *args is:\", arg)\n",
    "\n",
    "    for key in kwargs:\n",
    "        print(\"%s -> %s\" %(key, kwargs[key]))"
   ]
  },
  {
   "cell_type": "code",
   "execution_count": 83,
   "metadata": {
    "collapsed": false
   },
   "outputs": [
    {
     "name": "stdout",
     "output_type": "stream",
     "text": [
      "The first normal argument was: Mark\n",
      "Another arg through *args is: 3.14\n",
      "Another arg through *args is: Test\n",
      "Another arg through *args is: 44\n",
      "Another arg through *args is: Play\n",
      "name -> Noureddin\n",
      "a -> 3\n"
     ]
    }
   ],
   "source": [
    "my_function('Mark', *my_args, **my_dict)"
   ]
  },
  {
   "cell_type": "code",
   "execution_count": null,
   "metadata": {
    "collapsed": true
   },
   "outputs": [],
   "source": []
  }
 ],
 "metadata": {
  "kernelspec": {
   "display_name": "Python 3",
   "language": "python",
   "name": "python3"
  },
  "language_info": {
   "codemirror_mode": {
    "name": "ipython",
    "version": 3
   },
   "file_extension": ".py",
   "mimetype": "text/x-python",
   "name": "python",
   "nbconvert_exporter": "python",
   "pygments_lexer": "ipython3",
   "version": "3.6.0"
  }
 },
 "nbformat": 4,
 "nbformat_minor": 2
}
