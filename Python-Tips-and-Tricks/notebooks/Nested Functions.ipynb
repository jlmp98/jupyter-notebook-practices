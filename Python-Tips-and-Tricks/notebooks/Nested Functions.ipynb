{
 "cells": [
  {
   "cell_type": "markdown",
   "metadata": {},
   "source": [
    "Python lets us create nested functions.\n",
    "\n",
    "What this means is: we can declare functions inside of functions \n",
    "\n",
    "Pay attention to scoping and variable lifetime"
   ]
  },
  {
   "cell_type": "code",
   "execution_count": 18,
   "metadata": {
    "collapsed": true
   },
   "outputs": [],
   "source": [
    "def outer_function():\n",
    "    outer_var = \"outer\"\n",
    "    def inner_function_1():\n",
    "        inner_var_1 = \"inner 1\"\n",
    "        print(inner_var_1)\n",
    "    \n",
    "    def inner_function_2():\n",
    "        inner_var_2 = \"inner 2\"\n",
    "        print(inner_var_2)\n",
    "    \n",
    "    inner_function_2()"
   ]
  },
  {
   "cell_type": "code",
   "execution_count": 19,
   "metadata": {
    "collapsed": false
   },
   "outputs": [
    {
     "name": "stdout",
     "output_type": "stream",
     "text": [
      "inner 2\n"
     ]
    }
   ],
   "source": [
    "outer_function()"
   ]
  },
  {
   "cell_type": "markdown",
   "metadata": {},
   "source": [
    "Inner functions are freshly redefined each time the outer function\n",
    "\n",
    "They are removed/deleted when the outer function completes"
   ]
  },
  {
   "cell_type": "code",
   "execution_count": null,
   "metadata": {
    "collapsed": true
   },
   "outputs": [],
   "source": []
  }
 ],
 "metadata": {
  "kernelspec": {
   "display_name": "Python 3",
   "language": "python",
   "name": "python3"
  },
  "language_info": {
   "codemirror_mode": {
    "name": "ipython",
    "version": 3
   },
   "file_extension": ".py",
   "mimetype": "text/x-python",
   "name": "python",
   "nbconvert_exporter": "python",
   "pygments_lexer": "ipython3",
   "version": "3.6.0"
  }
 },
 "nbformat": 4,
 "nbformat_minor": 2
}
