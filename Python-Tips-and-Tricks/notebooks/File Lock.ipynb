{
 "cells": [
  {
   "cell_type": "code",
   "execution_count": 6,
   "metadata": {
    "collapsed": false
   },
   "outputs": [],
   "source": [
    "# If you have two or more processes that want to access/modify the same file at the same time\n",
    "# We can use a file lock \n",
    "# Using a lock we can tell other processes that a file is being used"
   ]
  },
  {
   "cell_type": "code",
   "execution_count": 11,
   "metadata": {
    "collapsed": false
   },
   "outputs": [],
   "source": [
    "# What we're going to do is to lock a file, write to it and then unlock it\n",
    "# We'll do it in such a way that if another process attempts to access the file\n",
    "#   (while the first process has not released/unlocked the file yet)\n",
    "#   then we raise an exception and keep trying until we can write to the file"
   ]
  },
  {
   "cell_type": "code",
   "execution_count": null,
   "metadata": {
    "collapsed": true
   },
   "outputs": [],
   "source": [
    "# More here -> http://tilde.town/~cristo/file-locking-in-python.html\n",
    "# and here -> https://docs.python.org/3/library/fcntl.html"
   ]
  },
  {
   "cell_type": "code",
   "execution_count": 2,
   "metadata": {
    "collapsed": true
   },
   "outputs": [],
   "source": [
    "import fcntl\n",
    "import time\n",
    "\n",
    "while True: # we keep trying forever until we manage to access the file\n",
    "    # you can change the loop to try a certain number of times\n",
    "    try:#try/except in case the file is still locked by another process\n",
    "        with open('/Users/csstnns/myfile.txt', 'a') as myfile: #open the file for editing\n",
    "            fcntl.flock(myfile, fcntl.LOCK_EX | fcntl.LOCK_NB)#lock the file\n",
    "            myfile.write('Hello World\\n')#edit it\n",
    "            fcntl.flock(myfile, fcntl.LOCK_UN)#and now unlock it so other processed can edit it!\n",
    "            break\n",
    "    except Error:\n",
    "        time.sleep(0.05)#wait before retrying"
   ]
  },
  {
   "cell_type": "code",
   "execution_count": null,
   "metadata": {
    "collapsed": true
   },
   "outputs": [],
   "source": []
  }
 ],
 "metadata": {
  "kernelspec": {
   "display_name": "Python 3",
   "language": "python",
   "name": "python3"
  },
  "language_info": {
   "codemirror_mode": {
    "name": "ipython",
    "version": 3
   },
   "file_extension": ".py",
   "mimetype": "text/x-python",
   "name": "python",
   "nbconvert_exporter": "python",
   "pygments_lexer": "ipython3",
   "version": "3.6.0"
  }
 },
 "nbformat": 4,
 "nbformat_minor": 2
}
