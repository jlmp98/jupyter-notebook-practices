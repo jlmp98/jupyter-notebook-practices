{
 "cells": [
  {
   "cell_type": "code",
   "execution_count": 1,
   "metadata": {
    "collapsed": true
   },
   "outputs": [],
   "source": [
    "# The reduce function takes a binary function f(x,y), a sequence s, and a starting value a0\n",
    "# It applies the function f to the starting value a0 and the first element in the sequence: a1 = f(a,s[0]). \n",
    "# The second element (s[1]) of the sequence is then processed as follows: \n",
    "#      the function f is called with arguments a1 and s[1], i.e. a2 = f(a1,s[1]). \n",
    "# In this fashion, the whole sequence is processed. \n",
    "# Reduce returns a single result/number"
   ]
  },
  {
   "cell_type": "code",
   "execution_count": 29,
   "metadata": {
    "collapsed": true
   },
   "outputs": [],
   "source": [
    "def add(x,y):\n",
    "    print(\"add(x=%d, y=%d) = %d\" % (x, y, x+y))\n",
    "    return x+y"
   ]
  },
  {
   "cell_type": "code",
   "execution_count": 30,
   "metadata": {
    "collapsed": true
   },
   "outputs": [],
   "source": [
    "from functools import reduce"
   ]
  },
  {
   "cell_type": "code",
   "execution_count": 31,
   "metadata": {
    "collapsed": false
   },
   "outputs": [
    {
     "name": "stdout",
     "output_type": "stream",
     "text": [
      "add(x=0, y=1) = 1\n",
      "add(x=1, y=2) = 3\n",
      "add(x=3, y=3) = 6\n",
      "add(x=6, y=4) = 10\n",
      "add(x=10, y=5) = 15\n",
      "add(x=15, y=6) = 21\n",
      "add(x=21, y=7) = 28\n",
      "add(x=28, y=8) = 36\n",
      "add(x=36, y=9) = 45\n",
      "add(x=45, y=10) = 55\n"
     ]
    },
    {
     "data": {
      "text/plain": [
       "55"
      ]
     },
     "execution_count": 31,
     "metadata": {},
     "output_type": "execute_result"
    }
   ],
   "source": [
    "reduce(add, [1, 2, 3, 4, 5, 6, 7, 8, 9, 10],0)"
   ]
  },
  {
   "cell_type": "code",
   "execution_count": 32,
   "metadata": {
    "collapsed": true
   },
   "outputs": [],
   "source": [
    "def concat_str(x,y):\n",
    "    return x+y "
   ]
  },
  {
   "cell_type": "code",
   "execution_count": 33,
   "metadata": {
    "collapsed": false
   },
   "outputs": [
    {
     "data": {
      "text/plain": [
       "'This is a string'"
      ]
     },
     "execution_count": 33,
     "metadata": {},
     "output_type": "execute_result"
    }
   ],
   "source": [
    "reduce(concat_str, ['This ','is ','a ','string'],'')"
   ]
  },
  {
   "cell_type": "code",
   "execution_count": 34,
   "metadata": {
    "collapsed": false
   },
   "outputs": [
    {
     "data": {
      "text/plain": [
       "'This is a string'"
      ]
     },
     "execution_count": 34,
     "metadata": {},
     "output_type": "execute_result"
    }
   ],
   "source": [
    "reduce(lambda x,y: x+y, ['This ','is ','a ','string'],'')"
   ]
  },
  {
   "cell_type": "code",
   "execution_count": null,
   "metadata": {
    "collapsed": true
   },
   "outputs": [],
   "source": []
  }
 ],
 "metadata": {
  "kernelspec": {
   "display_name": "Python 3",
   "language": "python",
   "name": "python3"
  },
  "language_info": {
   "codemirror_mode": {
    "name": "ipython",
    "version": 3
   },
   "file_extension": ".py",
   "mimetype": "text/x-python",
   "name": "python",
   "nbconvert_exporter": "python",
   "pygments_lexer": "ipython3",
   "version": "3.6.0"
  }
 },
 "nbformat": 4,
 "nbformat_minor": 2
}
